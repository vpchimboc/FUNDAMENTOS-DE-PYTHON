{
 "cells": [
  {
   "cell_type": "markdown",
   "metadata": {},
   "source": [
    "# Análisis de Patrones en Texto"
   ]
  },
  {
   "cell_type": "markdown",
   "metadata": {},
   "source": [
    "Muchas veces nos enfretamos a diferentes cadenas de carácteres sobre los cuales queremos realizar cierto tratamiento con diversos fines. En esta seccion realizaremos una introducción a algunas funciones especiales del tipo de dato **string** y a las **expresiones regulares**."
   ]
  },
  {
   "cell_type": "markdown",
   "metadata": {},
   "source": [
    "Objetivos\n",
    "-------------\n",
    "\n",
    "- Manipulación de cadenas de carácteres\n",
    "- Expresiones regulares\n"
   ]
  },
  {
   "cell_type": "markdown",
   "metadata": {},
   "source": [
    "## Búsqueda de Patrones en String\n",
    "-----------------------------------"
   ]
  },
  {
   "cell_type": "markdown",
   "metadata": {},
   "source": [
    "En esta sección, repasaremos algunos de los conceptos básicos acerca de las funciones básicas en cadena de carácteres y búsqueda de patrones más avanzados"
   ]
  },
  {
   "cell_type": "markdown",
   "metadata": {},
   "source": [
    "**String**"
   ]
  },
  {
   "cell_type": "markdown",
   "metadata": {},
   "source": [
    "Como ya hemos visto en el curso un string esta se encuentra delimitado por <code>'text'</code>, <code>\"text\"</code> para casos de una cadenas de una sola línea. Para múltiples líneas se tiene <code>\"\"\"text\"\"\"\"</code>."
   ]
  },
  {
   "cell_type": "code",
   "execution_count": null,
   "metadata": {},
   "outputs": [],
   "source": [
    "my_string = \"This is a string\"\n",
    "my_string2 = 'This is also a string'"
   ]
  },
  {
   "cell_type": "code",
   "execution_count": null,
   "metadata": {},
   "outputs": [],
   "source": [
    "my_string = 'And this? It's the wrong string'"
   ]
  },
  {
   "cell_type": "code",
   "execution_count": null,
   "metadata": {},
   "outputs": [],
   "source": [
    "my_string = \"And this? It's the correct string\"\n",
    "print(my_string)"
   ]
  },
  {
   "cell_type": "markdown",
   "metadata": {},
   "source": [
    "**Repaso de Funciones básicas**"
   ]
  },
  {
   "cell_type": "code",
   "execution_count": null,
   "metadata": {},
   "outputs": [],
   "source": [
    "# len -> nos brinda la longitud de la cadena\n",
    "len(my_string)\n"
   ]
  },
  {
   "cell_type": "code",
   "execution_count": null,
   "metadata": {},
   "outputs": [],
   "source": [
    "# str() -> Conversión a string\n",
    "str(123)"
   ]
  },
  {
   "cell_type": "code",
   "execution_count": null,
   "metadata": {},
   "outputs": [],
   "source": [
    "# Concatenacion\n",
    "\n",
    "string1= 'Awesome day'\n",
    "string2 = 'for biking'\n",
    "\n",
    "print(string1 +\" \"+ string2)\n"
   ]
  },
  {
   "cell_type": "code",
   "execution_count": null,
   "metadata": {},
   "outputs": [],
   "source": [
    "\"hola \" + 2"
   ]
  },
  {
   "cell_type": "code",
   "execution_count": null,
   "metadata": {},
   "outputs": [],
   "source": [
    "nombre = 'Gonzalo'\n",
    "f\"hola {nombre}\""
   ]
  },
  {
   "cell_type": "code",
   "execution_count": null,
   "metadata": {},
   "outputs": [],
   "source": [
    "# indexación\n",
    "print(string1[0]) # Obtengo primer elemento de la cadena de carácteres\n",
    "\n",
    "print(string1[-1]) #Obtengo último carácter de la cadena\n",
    "\n",
    "print(string1[len(string1)-1]) #Obtengo último carácter de la cadena"
   ]
  },
  {
   "cell_type": "code",
   "execution_count": null,
   "metadata": {},
   "outputs": [],
   "source": [
    "# Silicing\n",
    "\n",
    "print(string1[0:3]) # captura de los 3 primeros carácters\n",
    "\n",
    "print(string1[:5]) # 5 primeros elementos\n",
    "\n",
    "print(string1[5:]) # de la posición 5 en adelante\n"
   ]
  },
  {
   "cell_type": "code",
   "execution_count": null,
   "metadata": {},
   "outputs": [],
   "source": [
    "# Stride\n",
    "print(string1[0:6:2]) # selecciono los carácteres de la posición 0,6,2\n",
    "\n",
    "print(string1[::-1]) # reversión de cadena\n"
   ]
  },
  {
   "cell_type": "markdown",
   "metadata": {},
   "source": [
    "**Operaciones básicas**"
   ]
  },
  {
   "cell_type": "code",
   "execution_count": null,
   "metadata": {},
   "outputs": [],
   "source": [
    "# lower -> Conversión a minusculas\n",
    "\n",
    "print(string1.lower())\n",
    "\n",
    "# Upper -> conversión a mayúsculas\n",
    "\n",
    "print(string1.upper())\n",
    "\n",
    "# Capitalize -> primera letra del texto en mayúscula\n",
    "\n",
    "print(string1.capitalize())\n",
    "\n",
    "print(string1.title())\n"
   ]
  },
  {
   "cell_type": "code",
   "execution_count": null,
   "metadata": {},
   "outputs": [],
   "source": [
    "# Split -> Divide un texto según un separador\n",
    "\n",
    "my_string = \"This string will be split\"\n",
    "\n",
    "print(my_string.split(sep=\" \"))\n",
    "\n",
    "print(my_string.split(sep=\" \", maxsplit=2)) #maxsplit -> delimita la cantidad de palabras a ser separadas de la cadena\n"
   ]
  },
  {
   "cell_type": "code",
   "execution_count": null,
   "metadata": {},
   "outputs": [],
   "source": [
    "# \\n -> define un salto de línea en texto\n",
    "# \\t -> tabular\n",
    "my_string = \"This string will be split\\nin two\"\n",
    "\n",
    "print(my_string)\n",
    "\n",
    "# splitlines -> separa texto según saltos de línea\n",
    "print(my_string.splitlines())\n",
    "\n",
    "print(my_string.split('\\n'))"
   ]
  },
  {
   "cell_type": "code",
   "execution_count": null,
   "metadata": {},
   "outputs": [],
   "source": [
    "# join -> Permite concatenar strings de un listado \n",
    "\n",
    "my_list = [\"this\", \"would\", \"be\", \"a\", \"string\"]\n",
    "print(\" \".join(my_list))\n"
   ]
  },
  {
   "cell_type": "code",
   "execution_count": null,
   "metadata": {},
   "outputs": [],
   "source": [
    "# strip -> realiza una limpieza de texto quitando espacios en blanco o saltos de \n",
    "# línea de los extremos de una cadena de carácteres\n",
    "\n",
    "my_string = \"         This string will be stripped\\n\"\n",
    "\n",
    "print(my_string)\n",
    "\n",
    "print(my_string.strip())\n"
   ]
  },
  {
   "cell_type": "markdown",
   "metadata": {},
   "source": [
    "**Búsqueda de patrones**"
   ]
  },
  {
   "cell_type": "code",
   "execution_count": null,
   "metadata": {},
   "outputs": [],
   "source": [
    "# Find -> Realiza una búsqueda en texto\n",
    "\n",
    "my_string = \"Where's Waldo?\"\n",
    "print(my_string.find(\"Waldo\"))\n",
    "\n",
    "\n",
    "print(my_string.find(\"Wenda\")) # No se encotro palabra buscada"
   ]
  },
  {
   "cell_type": "code",
   "execution_count": null,
   "metadata": {},
   "outputs": [],
   "source": [
    "# index -> similar a find permite realizar la búsqueda\n",
    "\n",
    "my_string = \"Where's Waldo?\"\n",
    "my_string.index(\"Waldo\")"
   ]
  },
  {
   "cell_type": "code",
   "execution_count": null,
   "metadata": {},
   "outputs": [],
   "source": [
    "print(my_string.index(\"Wenda\"))"
   ]
  },
  {
   "cell_type": "code",
   "execution_count": null,
   "metadata": {},
   "outputs": [],
   "source": [
    "# Count -> permite obtener la cantidad de veces en que aparece una palabra en texto\n",
    "my_string = \"How many fruits do you have in your fruit basket?\"\n",
    "my_string.count(\"fruit\")"
   ]
  },
  {
   "cell_type": "code",
   "execution_count": null,
   "metadata": {},
   "outputs": [],
   "source": [
    "# replace -> permite reemplazar un texto por otro\n",
    "\n",
    "my_string = \"The red house is between the blue house and the old house\"\n",
    "print(my_string.replace(\"house\", \"car\"))\n",
    "\n",
    "\n",
    "print(my_string.replace(\"house\", \"car\", 2)) # reemplza la palabra 'house' 2 veces\n"
   ]
  },
  {
   "cell_type": "code",
   "execution_count": null,
   "metadata": {},
   "outputs": [],
   "source": []
  },
  {
   "cell_type": "markdown",
   "metadata": {},
   "source": [
    "# Ejercicios"
   ]
  },
  {
   "cell_type": "markdown",
   "metadata": {},
   "source": [
    "1. Escribir una función que, dado un string, retorne la longitud de la última palabra. Se considera que las palabras están separadas por uno o más espacios. También podría haber espacios al principio o al final del string pasado por parámetro.\n",
    "\n",
    "**Consideraciones:**\n",
    "\n",
    "    - Se considera que las cadenas ingresadas estarán conformadas solo por palabras [abc..] y espacios\n",
    "\n",
    "**Ejemplo de entrada y salida:**\n",
    "  \n",
    "    - Input: \"Hola a todos\" -> Output Esperado: 5\n",
    "    - Input: \"   Bienvenido al curso     \" -> Outpur Esperado: 5\n"
   ]
  },
  {
   "cell_type": "code",
   "execution_count": 7,
   "metadata": {},
   "outputs": [
    {
     "name": "stdout",
     "output_type": "stream",
     "text": [
      "El dígito 7 se repite 3\n"
     ]
    }
   ],
   "source": [
    "\n",
    "num = \"789564277\"\n",
    "d = '7'\n",
    "\n",
    "# valido num\n",
    "if num.isnumeric():\n",
    "    #cuento cantidad de veces en que se repite dígito\n",
    "    cantidad = num.count(d)\n",
    "    print(f'El dígito {d} se repite', cantidad)\n",
    "    pass\n",
    "    #\n"
   ]
  },
  {
   "cell_type": "code",
   "execution_count": 4,
   "metadata": {},
   "outputs": [
    {
     "data": {
      "text/plain": [
       "3"
      ]
     },
     "execution_count": 4,
     "metadata": {},
     "output_type": "execute_result"
    }
   ],
   "source": []
  },
  {
   "cell_type": "code",
   "execution_count": null,
   "metadata": {},
   "outputs": [],
   "source": []
  }
 ],
 "metadata": {
  "kernelspec": {
   "display_name": "Python 3 (ipykernel)",
   "language": "python",
   "name": "python3"
  },
  "language_info": {
   "codemirror_mode": {
    "name": "ipython",
    "version": 3
   },
   "file_extension": ".py",
   "mimetype": "text/x-python",
   "name": "python",
   "nbconvert_exporter": "python",
   "pygments_lexer": "ipython3",
   "version": "3.8.12"
  }
 },
 "nbformat": 4,
 "nbformat_minor": 4
}
